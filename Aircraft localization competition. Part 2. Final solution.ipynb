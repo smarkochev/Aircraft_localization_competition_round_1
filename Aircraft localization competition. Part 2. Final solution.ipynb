{
 "cells": [
  {
   "cell_type": "markdown",
   "metadata": {},
   "source": [
    "# <center><big>AIcrowd - Aircraft localization competition</big> <br /> <medium>(round 1: synchronized receivers)</medium></center>\n",
    "\n",
    "## <center>Part II - Final solution</center>\n",
    "\n",
    "### Link to competition page\n",
    "https://www.aicrowd.com/challenges/cyd-campus-aircraft-localization-competition\n",
    "\n",
    "### Solution structure\n",
    "\n",
    "The solution consists of 4 parts:\n",
    " 1. Data preprocessing and outliers elimination\n",
    " 2. Multilateration algorithm for points with 3+ measurements available\n",
    " 3. Filtration of calculated locations from step 2.\n",
    " 4. Auto-selection of filtered locations from step 3. and extrapolation to the nearest points."
   ]
  },
  {
   "cell_type": "code",
   "execution_count": 1,
   "metadata": {},
   "outputs": [],
   "source": [
    "from IPython.core.pylabtools import figsize\n",
    "import matplotlib.pyplot as plt\n",
    "import seaborn as sns\n",
    "\n",
    "import pandas as pd\n",
    "import numpy as np\n",
    "\n",
    "import warnings\n",
    "warnings.filterwarnings('ignore')\n",
    "\n",
    "%matplotlib inline"
   ]
  },
  {
   "cell_type": "markdown",
   "metadata": {},
   "source": [
    "# 1. Data preprocessing and outliers elimination\n",
    "\n",
    "## Load datasets\n",
    "\n",
    "I used only the test set (round1_competition.csv file) to train my models and make predictions. I thought that 7 training datasets were recorded at different times and therefore may include clock drifts.\n",
    "\n",
    "**Here and below by train and test datasets I will assume the training (with known locations) and testing parts of the TEST dataset.**"
   ]
  },
  {
   "cell_type": "code",
   "execution_count": 2,
   "metadata": {},
   "outputs": [
    {
     "name": "stdout",
     "output_type": "stream",
     "text": [
      "Data shape: (1836730, 9)\n"
     ]
    },
    {
     "data": {
      "text/html": [
       "<div>\n",
       "<style scoped>\n",
       "    .dataframe tbody tr th:only-of-type {\n",
       "        vertical-align: middle;\n",
       "    }\n",
       "\n",
       "    .dataframe tbody tr th {\n",
       "        vertical-align: top;\n",
       "    }\n",
       "\n",
       "    .dataframe thead th {\n",
       "        text-align: right;\n",
       "    }\n",
       "</style>\n",
       "<table border=\"1\" class=\"dataframe\">\n",
       "  <thead>\n",
       "    <tr style=\"text-align: right;\">\n",
       "      <th></th>\n",
       "      <th>id</th>\n",
       "      <th>timeAtServer</th>\n",
       "      <th>aircraft</th>\n",
       "      <th>latitude</th>\n",
       "      <th>longitude</th>\n",
       "      <th>baroAltitude</th>\n",
       "      <th>geoAltitude</th>\n",
       "      <th>numMeasurements</th>\n",
       "      <th>measurements</th>\n",
       "    </tr>\n",
       "  </thead>\n",
       "  <tbody>\n",
       "    <tr>\n",
       "      <td>0</td>\n",
       "      <td>1</td>\n",
       "      <td>0.0</td>\n",
       "      <td>109</td>\n",
       "      <td>51.606740</td>\n",
       "      <td>-0.204849</td>\n",
       "      <td>2590.80</td>\n",
       "      <td>2590.80</td>\n",
       "      <td>2</td>\n",
       "      <td>[[532,969020406,89],[216,969100125,23]]</td>\n",
       "    </tr>\n",
       "    <tr>\n",
       "      <td>1</td>\n",
       "      <td>2</td>\n",
       "      <td>0.0</td>\n",
       "      <td>840</td>\n",
       "      <td>51.280781</td>\n",
       "      <td>-0.698624</td>\n",
       "      <td>8907.78</td>\n",
       "      <td>8846.82</td>\n",
       "      <td>2</td>\n",
       "      <td>[[532,976779968,72],[216,976836703,32]]</td>\n",
       "    </tr>\n",
       "    <tr>\n",
       "      <td>2</td>\n",
       "      <td>3</td>\n",
       "      <td>0.0</td>\n",
       "      <td>1819</td>\n",
       "      <td>51.354567</td>\n",
       "      <td>-0.304184</td>\n",
       "      <td>5791.20</td>\n",
       "      <td>5722.62</td>\n",
       "      <td>2</td>\n",
       "      <td>[[532,980862171,91],[294,980898968,101]]</td>\n",
       "    </tr>\n",
       "  </tbody>\n",
       "</table>\n",
       "</div>"
      ],
      "text/plain": [
       "   id  timeAtServer  aircraft   latitude  longitude  baroAltitude  \\\n",
       "0   1           0.0       109  51.606740  -0.204849       2590.80   \n",
       "1   2           0.0       840  51.280781  -0.698624       8907.78   \n",
       "2   3           0.0      1819  51.354567  -0.304184       5791.20   \n",
       "\n",
       "   geoAltitude  numMeasurements                              measurements  \n",
       "0      2590.80                2   [[532,969020406,89],[216,969100125,23]]  \n",
       "1      8846.82                2   [[532,976779968,72],[216,976836703,32]]  \n",
       "2      5722.62                2  [[532,980862171,91],[294,980898968,101]]  "
      ]
     },
     "metadata": {},
     "output_type": "display_data"
    },
    {
     "name": "stdout",
     "output_type": "stream",
     "text": [
      "Sensors shape (716, 5)\n"
     ]
    },
    {
     "data": {
      "text/html": [
       "<div>\n",
       "<style scoped>\n",
       "    .dataframe tbody tr th:only-of-type {\n",
       "        vertical-align: middle;\n",
       "    }\n",
       "\n",
       "    .dataframe tbody tr th {\n",
       "        vertical-align: top;\n",
       "    }\n",
       "\n",
       "    .dataframe thead th {\n",
       "        text-align: right;\n",
       "    }\n",
       "</style>\n",
       "<table border=\"1\" class=\"dataframe\">\n",
       "  <thead>\n",
       "    <tr style=\"text-align: right;\">\n",
       "      <th></th>\n",
       "      <th>serial</th>\n",
       "      <th>latitude</th>\n",
       "      <th>longitude</th>\n",
       "      <th>height</th>\n",
       "      <th>type</th>\n",
       "    </tr>\n",
       "  </thead>\n",
       "  <tbody>\n",
       "    <tr>\n",
       "      <td>0</td>\n",
       "      <td>1</td>\n",
       "      <td>46.681067</td>\n",
       "      <td>7.665313</td>\n",
       "      <td>680.9232</td>\n",
       "      <td>SBS-3</td>\n",
       "    </tr>\n",
       "    <tr>\n",
       "      <td>1</td>\n",
       "      <td>2</td>\n",
       "      <td>40.337042</td>\n",
       "      <td>-3.770206</td>\n",
       "      <td>735.7872</td>\n",
       "      <td>SBS-3</td>\n",
       "    </tr>\n",
       "    <tr>\n",
       "      <td>2</td>\n",
       "      <td>3</td>\n",
       "      <td>0.000000</td>\n",
       "      <td>0.000000</td>\n",
       "      <td>0.0000</td>\n",
       "      <td>SBS-3</td>\n",
       "    </tr>\n",
       "  </tbody>\n",
       "</table>\n",
       "</div>"
      ],
      "text/plain": [
       "   serial   latitude  longitude    height   type\n",
       "0       1  46.681067   7.665313  680.9232  SBS-3\n",
       "1       2  40.337042  -3.770206  735.7872  SBS-3\n",
       "2       3   0.000000   0.000000    0.0000  SBS-3"
      ]
     },
     "execution_count": 2,
     "metadata": {},
     "output_type": "execute_result"
    }
   ],
   "source": [
    "### Recorded measurements\n",
    "\n",
    "df = pd.read_csv('test/round1_competition.csv')\n",
    "print('Data shape:', df.shape)\n",
    "display(df.head(3))\n",
    "\n",
    "# Information about sensors\n",
    "\n",
    "sensors = pd.read_csv('test/sensors.csv')\n",
    "print('Sensors shape', sensors.shape)\n",
    "sensors.head(3)"
   ]
  },
  {
   "cell_type": "markdown",
   "metadata": {},
   "source": [
    "### Number of unique aircrafts in train and test"
   ]
  },
  {
   "cell_type": "code",
   "execution_count": 3,
   "metadata": {},
   "outputs": [
    {
     "name": "stdout",
     "output_type": "stream",
     "text": [
      "Number of unique aircrafts 1635\n",
      "Number of aircrafts with unknown location 32\n"
     ]
    }
   ],
   "source": [
    "print('Number of unique aircrafts', len(df.aircraft.unique()))\n",
    "\n",
    "df['test'] = df.latitude.apply(lambda x: int(np.isnan(x)))\n",
    "print('Number of aircrafts with unknown location', len(df[df.test==1].aircraft.unique()))"
   ]
  },
  {
   "cell_type": "markdown",
   "metadata": {},
   "source": [
    "### Stations / sensors"
   ]
  },
  {
   "cell_type": "code",
   "execution_count": 4,
   "metadata": {},
   "outputs": [
    {
     "name": "stdout",
     "output_type": "stream",
     "text": [
      "Number of unique stations 33\n"
     ]
    }
   ],
   "source": [
    "# Create a column with all station numbers which provided measurements for a given location\n",
    "df = df.assign(stations = lambda x: x.measurements.apply(lambda y: [z[0] for z in eval(y)]))\n",
    "\n",
    "# Find all stations with records for the test\n",
    "# (It will be shown below that 3+ measurements are required to solve multilateration equations)\n",
    "test_stations = df[(df.test == 1) & (df.numMeasurements > 2)].stations.values.tolist()\n",
    "\n",
    "stations = []\n",
    "for s in test_stations:\n",
    "    stations += s\n",
    "\n",
    "print('Number of unique stations', len(set(stations)))"
   ]
  },
  {
   "cell_type": "code",
   "execution_count": 5,
   "metadata": {},
   "outputs": [],
   "source": [
    "## So, there are only 33 stations which measurements included in test!"
   ]
  },
  {
   "cell_type": "code",
   "execution_count": 6,
   "metadata": {},
   "outputs": [
    {
     "name": "stdout",
     "output_type": "stream",
     "text": [
      "33\n"
     ]
    }
   ],
   "source": [
    "stations = list(set(stations))\n",
    "print(len(stations))"
   ]
  },
  {
   "cell_type": "code",
   "execution_count": 7,
   "metadata": {},
   "outputs": [],
   "source": [
    "# How many records there are in train with the selected stations"
   ]
  },
  {
   "cell_type": "code",
   "execution_count": 8,
   "metadata": {},
   "outputs": [
    {
     "name": "stdout",
     "output_type": "stream",
     "text": [
      "(671959, 12)\n"
     ]
    },
    {
     "data": {
      "text/html": [
       "<div>\n",
       "<style scoped>\n",
       "    .dataframe tbody tr th:only-of-type {\n",
       "        vertical-align: middle;\n",
       "    }\n",
       "\n",
       "    .dataframe tbody tr th {\n",
       "        vertical-align: top;\n",
       "    }\n",
       "\n",
       "    .dataframe thead th {\n",
       "        text-align: right;\n",
       "    }\n",
       "</style>\n",
       "<table border=\"1\" class=\"dataframe\">\n",
       "  <thead>\n",
       "    <tr style=\"text-align: right;\">\n",
       "      <th></th>\n",
       "      <th>id</th>\n",
       "      <th>timeAtServer</th>\n",
       "      <th>aircraft</th>\n",
       "      <th>latitude</th>\n",
       "      <th>longitude</th>\n",
       "      <th>baroAltitude</th>\n",
       "      <th>geoAltitude</th>\n",
       "      <th>numMeasurements</th>\n",
       "      <th>measurements</th>\n",
       "      <th>test</th>\n",
       "      <th>stations</th>\n",
       "      <th>interest</th>\n",
       "    </tr>\n",
       "  </thead>\n",
       "  <tbody>\n",
       "    <tr>\n",
       "      <td>3</td>\n",
       "      <td>4</td>\n",
       "      <td>0.001</td>\n",
       "      <td>719</td>\n",
       "      <td>46.953053</td>\n",
       "      <td>14.289973</td>\n",
       "      <td>10972.80</td>\n",
       "      <td>10820.40</td>\n",
       "      <td>3</td>\n",
       "      <td>[[149,957322046,48],[143,957512484,102],[133,9...</td>\n",
       "      <td>0</td>\n",
       "      <td>[149, 143, 133]</td>\n",
       "      <td>1</td>\n",
       "    </tr>\n",
       "    <tr>\n",
       "      <td>8</td>\n",
       "      <td>9</td>\n",
       "      <td>0.010</td>\n",
       "      <td>755</td>\n",
       "      <td>49.933136</td>\n",
       "      <td>7.514576</td>\n",
       "      <td>11582.40</td>\n",
       "      <td>11376.66</td>\n",
       "      <td>5</td>\n",
       "      <td>[[663,991949296,84],[398,992213375,94],[460,99...</td>\n",
       "      <td>0</td>\n",
       "      <td>[663, 398, 460, 414, 550]</td>\n",
       "      <td>1</td>\n",
       "    </tr>\n",
       "    <tr>\n",
       "      <td>9</td>\n",
       "      <td>10</td>\n",
       "      <td>0.012</td>\n",
       "      <td>901</td>\n",
       "      <td>47.345627</td>\n",
       "      <td>6.464218</td>\n",
       "      <td>11399.52</td>\n",
       "      <td>11231.88</td>\n",
       "      <td>4</td>\n",
       "      <td>[[147,1000432156,69],[470,1000187995,32],[124,...</td>\n",
       "      <td>0</td>\n",
       "      <td>[147, 470, 124, 474]</td>\n",
       "      <td>1</td>\n",
       "    </tr>\n",
       "  </tbody>\n",
       "</table>\n",
       "</div>"
      ],
      "text/plain": [
       "   id  timeAtServer  aircraft   latitude  longitude  baroAltitude  \\\n",
       "3   4         0.001       719  46.953053  14.289973      10972.80   \n",
       "8   9         0.010       755  49.933136   7.514576      11582.40   \n",
       "9  10         0.012       901  47.345627   6.464218      11399.52   \n",
       "\n",
       "   geoAltitude  numMeasurements  \\\n",
       "3     10820.40                3   \n",
       "8     11376.66                5   \n",
       "9     11231.88                4   \n",
       "\n",
       "                                        measurements  test  \\\n",
       "3  [[149,957322046,48],[143,957512484,102],[133,9...     0   \n",
       "8  [[663,991949296,84],[398,992213375,94],[460,99...     0   \n",
       "9  [[147,1000432156,69],[470,1000187995,32],[124,...     0   \n",
       "\n",
       "                    stations  interest  \n",
       "3            [149, 143, 133]         1  \n",
       "8  [663, 398, 460, 414, 550]         1  \n",
       "9       [147, 470, 124, 474]         1  "
      ]
     },
     "execution_count": 8,
     "metadata": {},
     "output_type": "execute_result"
    }
   ],
   "source": [
    "train = (df[(df.test == 0) & (df.numMeasurements > 2)]\n",
    " .assign(interest = lambda x: [int(all([i in stations for i in y])) for y in x.stations])\n",
    " .loc[lambda x: x.interest == 1]\n",
    ")\n",
    "\n",
    "print(train.shape)\n",
    "train.head(3)"
   ]
  },
  {
   "cell_type": "markdown",
   "metadata": {},
   "source": [
    "### Remove location outliers\n",
    "\n",
    "Some points are far away from their tracks which need to be removed"
   ]
  },
  {
   "cell_type": "code",
   "execution_count": 9,
   "metadata": {},
   "outputs": [
    {
     "name": "stderr",
     "output_type": "stream",
     "text": [
      "100%|██████████| 1068/1068 [00:22<00:00, 47.32it/s]\n"
     ]
    },
    {
     "data": {
      "text/plain": [
       "1437"
      ]
     },
     "execution_count": 9,
     "metadata": {},
     "output_type": "execute_result"
    }
   ],
   "source": [
    "from tqdm import tqdm\n",
    "\n",
    "# list of broken ids\n",
    "broken_id = []\n",
    "\n",
    "## Loop over aircrafts\n",
    "for r in tqdm(train.aircraft.unique()):\n",
    "    # apply a median filter for latitude values\n",
    "    # true direction\n",
    "    lat1 = train[train.aircraft==r].latitude.rolling(15).median().values\n",
    "    # reverse direction\n",
    "    lat2 = train[train.aircraft==r].latitude.sort_index(ascending=False).rolling(15).median().values[::-1]\n",
    "    # combine them together\n",
    "    lat = [0.5*(x+y) if not np.isnan(x) and not np.isnan(y) else x if not np.isnan(x) else y for x, y in zip(lat1, lat2)]\n",
    "\n",
    "    # apply a median filter for longitude values\n",
    "    # true direction\n",
    "    lon1 = train[train.aircraft==r].longitude.rolling(15).median().values\n",
    "    # reverse direction\n",
    "    lon2 = train[train.aircraft==r].longitude.sort_index(ascending=False).rolling(15).median().values[::-1]\n",
    "    # combine them together\n",
    "    lon = [0.5*(x+y) if not np.isnan(x) and not np.isnan(y) else x if not np.isnan(x) else y for x, y in zip(lon1, lon2)]\n",
    "    \n",
    "    # filter outliers by a threshold\n",
    "    lat = train[train.aircraft==r].latitude.values - np.array(lat)\n",
    "    lon = train[train.aircraft==r].longitude.values - np.array(lon)\n",
    "    \n",
    "    ind = np.unique(np.r_[np.where(abs(lat) > 1)[0], np.where(abs(lon) > 1)[0]])\n",
    "\n",
    "    broken_id += train[train.aircraft==r].id.values[ind].tolist()\n",
    "    \n",
    "len(broken_id)"
   ]
  },
  {
   "cell_type": "code",
   "execution_count": 10,
   "metadata": {},
   "outputs": [],
   "source": [
    "# Number of outliers found"
   ]
  },
  {
   "cell_type": "code",
   "execution_count": 11,
   "metadata": {},
   "outputs": [
    {
     "data": {
      "text/plain": [
       "1437"
      ]
     },
     "execution_count": 11,
     "metadata": {},
     "output_type": "execute_result"
    }
   ],
   "source": [
    "len(broken_id)"
   ]
  },
  {
   "cell_type": "code",
   "execution_count": 12,
   "metadata": {},
   "outputs": [],
   "source": [
    "# Remove outliers"
   ]
  },
  {
   "cell_type": "code",
   "execution_count": 13,
   "metadata": {},
   "outputs": [
    {
     "name": "stdout",
     "output_type": "stream",
     "text": [
      "(670522, 12)\n"
     ]
    }
   ],
   "source": [
    "train = train[~train.id.isin(broken_id)]\n",
    "print(train.shape)"
   ]
  },
  {
   "cell_type": "markdown",
   "metadata": {},
   "source": [
    "## Coordinate transformation from WGS84 to cartesian\n",
    "\n",
    "Copy from here:\n",
    "https://competition.opensky-network.org/documentation.html"
   ]
  },
  {
   "cell_type": "code",
   "execution_count": 14,
   "metadata": {},
   "outputs": [],
   "source": [
    "class P3:\n",
    "    def __init__(self, latitude, longitude, height):\n",
    "        self.latitude = latitude\n",
    "        self.longitude = longitude\n",
    "        self.height = height\n",
    "        \n",
    "    # convert decimal degrees to radians\n",
    "    def rad(self, degrees):\n",
    "        return degrees * np.pi / 180.\n",
    "\n",
    "    # convert radians to decimal degrees\n",
    "    def deg(self, radians):\n",
    "        return 180 * radians / np.pi\n",
    "\n",
    "    # convert WSG84 coordinates to cartesian ones\n",
    "    def to_cartesian(self):\n",
    "        lat = self.rad(self.latitude)\n",
    "        lon = self.rad(self.longitude)\n",
    "\n",
    "        # WSG84 ellipsoid constants\n",
    "        a = 6378137\n",
    "        e2 = 6.69437999014e-3 #8.1819190842622e-2\n",
    "\n",
    "        # prime vertical radius of curvature\n",
    "        N = a / np.sqrt(1 - e2 * pow(np.sin(lat),2))\n",
    "\n",
    "        return( (N + self.height) * np.cos(lat) * np.cos(lon),\n",
    "                (N + self.height) * np.cos(lat) * np.sin(lon),\n",
    "                ((1 - e2) * N + self.height) * np.sin(lat) )\n",
    "\n",
    "# 3D distance between WSG84 coordinates\n",
    "def dist3d(p1, p2):\n",
    "    x1, y1, z1 = p1.to_cartesian()\n",
    "    x2, y2, z2 = p2.to_cartesian()\n",
    "        \n",
    "    return np.sqrt(pow(x1-x2,2) + pow(y1-y2,2) + pow(z1-z2,2))"
   ]
  },
  {
   "cell_type": "markdown",
   "metadata": {},
   "source": [
    "## Altitude measurements"
   ]
  },
  {
   "cell_type": "code",
   "execution_count": 15,
   "metadata": {},
   "outputs": [
    {
     "data": {
      "text/plain": [
       "Text(0, 0.5, 'geoAltitude')"
      ]
     },
     "execution_count": 15,
     "metadata": {},
     "output_type": "execute_result"
    },
    {
     "data": {
      "image/png": "[encoded data removed]",
      "text/plain": [
       "<Figure size 1080x360 with 2 Axes>"
      ]
     },
     "metadata": {
      "needs_background": "light"
     },
     "output_type": "display_data"
    }
   ],
   "source": [
    "figsize(15, 5)\n",
    "\n",
    "f = plt.figure()\n",
    "ax1 = f.add_subplot(121)\n",
    "ax1.scatter(train.baroAltitude,\n",
    "            train.geoAltitude)\n",
    "ax1.set_title('All aircrafts')\n",
    "ax1.set_xlabel('baroAltitude')\n",
    "ax1.set_ylabel('geoAltitude')\n",
    "\n",
    "# 2 aircrafts seems to have outliers\n",
    "ax2 = f.add_subplot(122)\n",
    "ax2.scatter(train[~train.aircraft.isin([1120, 415])].baroAltitude,\n",
    "            train[~train.aircraft.isin([1120, 415])].geoAltitude)\n",
    "ax2.set_title('Filtered aircrafts')\n",
    "ax2.set_xlabel('baroAltitude')\n",
    "ax2.set_ylabel('geoAltitude')"
   ]
  },
  {
   "cell_type": "code",
   "execution_count": 16,
   "metadata": {},
   "outputs": [],
   "source": [
    "# Apply spline interpolation to find geoAltitude as a function of baroAltitude\n",
    "# (Linear interpolation shows worse result)"
   ]
  },
  {
   "cell_type": "code",
   "execution_count": 17,
   "metadata": {},
   "outputs": [],
   "source": [
    "from scipy.interpolate import splrep, splev\n",
    "\n",
    "ind = np.argsort(train[~train.aircraft.isin([1120, 415])].baroAltitude.values)\n",
    "\n",
    "spl = splrep(train[~train.aircraft.isin([1120, 415])].baroAltitude.values[ind],\n",
    "             train[~train.aircraft.isin([1120, 415])].geoAltitude.values[ind],\n",
    "             k=2, t=[5000, 10000], task=-1)"
   ]
  },
  {
   "cell_type": "code",
   "execution_count": 18,
   "metadata": {},
   "outputs": [],
   "source": [
    "# Check result"
   ]
  },
  {
   "cell_type": "code",
   "execution_count": 19,
   "metadata": {},
   "outputs": [
    {
     "data": {
      "text/plain": [
       "[<matplotlib.lines.Line2D at 0x7fc5f04b1410>]"
      ]
     },
     "execution_count": 19,
     "metadata": {},
     "output_type": "execute_result"
    },
    {
     "data": {
      "image/png": "[encoded data removed]",
      "text/plain": [
       "<Figure size 1080x360 with 1 Axes>"
      ]
     },
     "metadata": {
      "needs_background": "light"
     },
     "output_type": "display_data"
    }
   ],
   "source": [
    "figsize(15, 5)\n",
    "\n",
    "plt.scatter(train[~train.aircraft.isin([1120, 415])].baroAltitude,\n",
    "            train[~train.aircraft.isin([1120, 415])].geoAltitude)\n",
    "plt.plot(train[~train.aircraft.isin([1120, 415])].baroAltitude.values,\n",
    "         splev(train[~train.aircraft.isin([1120, 415])].baroAltitude.values, spl), 'r.')"
   ]
  },
  {
   "cell_type": "code",
   "execution_count": 20,
   "metadata": {},
   "outputs": [],
   "source": [
    "## Remove two tracks from train"
   ]
  },
  {
   "cell_type": "code",
   "execution_count": 21,
   "metadata": {},
   "outputs": [
    {
     "name": "stdout",
     "output_type": "stream",
     "text": [
      "(670206, 12)\n"
     ]
    }
   ],
   "source": [
    "train = train[~train.aircraft.isin([1120, 415])]\n",
    "print(train.shape)"
   ]
  },
  {
   "cell_type": "markdown",
   "metadata": {},
   "source": [
    "## Create dictionaries to work with stations\n",
    "\n",
    "Below I will need to create matrices and indices for the selected 33 stations.\n",
    "Here I define some hash-map structures to get direct access to some information about a station by its number:\n",
    "\n",
    " | Name | Input | Output |\n",
    " |------|-------|--------|\n",
    " | st_dict | station number | station order |\n",
    " | st_dict_rev | station order | station number |\n",
    " | st_loc | station number | station location (P3 class instance) |\n",
    " | st_lat | station number | station latitude |\n",
    " | st_lon | station number | station longitude |"
   ]
  },
  {
   "cell_type": "code",
   "execution_count": 22,
   "metadata": {},
   "outputs": [
    {
     "data": {
      "text/plain": [
       "{10: 0,\n",
       " 14: 1,\n",
       " 121: 2,\n",
       " 124: 3,\n",
       " 130: 4,\n",
       " 131: 5,\n",
       " 132: 6,\n",
       " 133: 7,\n",
       " 134: 8,\n",
       " 141: 9,\n",
       " 142: 10,\n",
       " 143: 11,\n",
       " 147: 12,\n",
       " 149: 13,\n",
       " 208: 14,\n",
       " 216: 15,\n",
       " 247: 16,\n",
       " 257: 17,\n",
       " 263: 18,\n",
       " 294: 19,\n",
       " 299: 20,\n",
       " 327: 21,\n",
       " 398: 22,\n",
       " 414: 23,\n",
       " 460: 24,\n",
       " 470: 25,\n",
       " 474: 26,\n",
       " 532: 27,\n",
       " 550: 28,\n",
       " 598: 29,\n",
       " 632: 30,\n",
       " 663: 31,\n",
       " 670: 32}"
      ]
     },
     "execution_count": 22,
     "metadata": {},
     "output_type": "execute_result"
    }
   ],
   "source": [
    "# returns station order by station number\n",
    "# example for station 10: st_dict[10] = 0\n",
    "st_dict = {}\n",
    "\n",
    "# reverse map\n",
    "# example for station 10: st_dict_rev[0] = 10\n",
    "st_dict_rev = {}\n",
    "\n",
    "st_loc = {}  # dict of P3 class instances for use in dist3d function\n",
    "st_lat = {}  # station latitudes\n",
    "st_lon = {}  # station longitudes\n",
    "\n",
    "for i, s in enumerate(sorted(stations)):\n",
    "    st_dict[s] = i\n",
    "    st_dict_rev[i] = s\n",
    "    \n",
    "    station_geo = sensors.loc[sensors.serial==s, ['latitude', 'longitude', 'height']].values[0]\n",
    "    st_loc[s] = P3(*station_geo)\n",
    "    st_lat[s] = station_geo[0]\n",
    "    st_lon[s] = station_geo[1]\n",
    "    \n",
    "st_dict"
   ]
  },
  {
   "cell_type": "markdown",
   "metadata": {},
   "source": [
    "## Station time measurements\n",
    "\n",
    "In this round all stations are assumed to have GPS sensors and therefore synchronized.\n",
    "\n",
    "I will define here two types of time for each station:\n",
    " - raw time measurements: timestamps measured by a station;\n",
    " - true time measurements: timestamps minus time required to a radiowave to pass distance between an aircraft and a station."
   ]
  },
  {
   "cell_type": "code",
   "execution_count": 23,
   "metadata": {},
   "outputs": [
    {
     "name": "stderr",
     "output_type": "stream",
     "text": [
      "100%|██████████| 670206/670206 [01:22<00:00, 8085.30it/s]\n",
      "100%|██████████| 72136/72136 [00:01<00:00, 50672.58it/s]\n"
     ]
    }
   ],
   "source": [
    "## train set\n",
    "\n",
    "N = train.shape[0]\n",
    "T = np.zeros([N, len(st_dict)])  # true station time measurements\n",
    "T0 = np.zeros([N, len(st_dict)])  # raw station time measurements\n",
    "\n",
    "lat = train.latitude.values\n",
    "lon = train.longitude.values\n",
    "hgt = train.geoAltitude.values\n",
    "meas = train.measurements.values\n",
    "\n",
    "for i in tqdm(range(N)):\n",
    "    for w in eval(meas[i]):\n",
    "        # true time measurement = station_measured_time - distance_to_aircraft / speed_of_light\n",
    "        T[i, st_dict[w[0]]] = w[1] - dist3d(st_loc[w[0]], P3(lat[i], lon[i], hgt[i]))/0.299792458\n",
    "        # raw time measurements \n",
    "        T0[i, st_dict[w[0]]] = w[1]\n",
    "        \n",
    "        \n",
    "## test set\n",
    "        \n",
    "test = df[(df.test==1)&(df.numMeasurements>2)]\n",
    "\n",
    "N = test.shape[0]\n",
    "Ttest = np.zeros([N, len(st_dict)])\n",
    "meas = test.measurements.values\n",
    "\n",
    "for i in tqdm(range(N)):\n",
    "    for w in eval(meas[i]):\n",
    "        # only raw time measurements available\n",
    "        Ttest[i, st_dict[w[0]]] = w[1]"
   ]
  },
  {
   "cell_type": "markdown",
   "metadata": {},
   "source": [
    "## Cython code\n",
    "\n",
    "Cython is a powerful extension of Python which allows to include some \"C++ like\" code into Python programms.\n",
    "Cython significantly decrease computation time of heavy used functions.\n",
    "Each Cython function has to be wrapped by a corresponding Python function (see below)."
   ]
  },
  {
   "cell_type": "code",
   "execution_count": 25,
   "metadata": {},
   "outputs": [],
   "source": [
    "# load Cython extension\n",
    "%load_ext Cython"
   ]
  },
  {
   "cell_type": "code",
   "execution_count": 26,
   "metadata": {},
   "outputs": [],
   "source": [
    "%%cython\n",
    "\n",
    "## Cython code in this cell\n",
    "\n",
    "# load libraries\n",
    "cimport cython\n",
    "\n",
    "import numpy as np\n",
    "cimport numpy as np\n",
    "\n",
    "from libc.math cimport pi, sqrt, sin, cos, pow\n",
    "\n",
    "\n",
    "# WSG84 ellipsoid constants\n",
    "cdef:\n",
    "    double wgs_a = 6378137  # [m]\n",
    "    double wgs_e2 = 0.00669437999014\n",
    "\n",
    "\n",
    "# --------------------------------------------------------------------\n",
    "# Cython function to convert WGS84 coordinates to cartesian\n",
    "# --------------------------------------------------------------------\n",
    "\n",
    "cdef wgs2cart_c(double latitude, double longitude, double height):\n",
    "    cdef:\n",
    "        double lat = pi * latitude / 180.\n",
    "        double lon = pi * longitude / 180.\n",
    "        \n",
    "        # prime vertical radius of curvature\n",
    "        double N = wgs_a / sqrt(1 - wgs_e2 * pow(sin(lat), 2))\n",
    "        double cart[3]\n",
    "\n",
    "    cart[0] = (N + height) * cos(lat) * cos(lon)\n",
    "    cart[1] = (N + height) * cos(lat) * sin(lon)\n",
    "    cart[2] = ((1 - wgs_e2) * N + height) * sin(lat)\n",
    "    \n",
    "    return cart\n",
    "\n",
    "\n",
    "# --------------------------------------------------------------------\n",
    "# Cython function to calculate distance in 3D space\n",
    "# --------------------------------------------------------------------\n",
    "\n",
    "cdef dist3d_c(double latitude1, double longitude1, double height1,\n",
    "              double latitude2, double longitude2, double height2):\n",
    "    \n",
    "    cdef double cart1[3], cart2[3]\n",
    "    \n",
    "    cart1 = wgs2cart_c(latitude1, longitude1, height1)\n",
    "    cart2 = wgs2cart_c(latitude2, longitude2, height2)\n",
    "    \n",
    "    return sqrt(pow(cart1[0] - cart2[0], 2) + pow(cart1[1] - cart2[1], 2) + pow(cart1[2] - cart2[2], 2))\n",
    "\n",
    "\n",
    "# --------------------------------------------------------------------\n",
    "# Python wrapper for Cython function to calculate distance in 3D space\n",
    "# --------------------------------------------------------------------\n",
    "\n",
    "def dist3d_p(double lat1, double lon1, double hgt1,\n",
    "             double lat2, double lon2, double hgt2):\n",
    "    return dist3d_c(lat1, lon1, hgt1, lat2, lon2, hgt2)\n",
    "\n",
    "\n",
    "# --------------------------------------------------------------------\n",
    "# Cython function to calculate residual error for multilateration equations\n",
    "#\n",
    "# Input:\n",
    "#   - lat: aircraft latitude [deg]\n",
    "#   - lon: aircraft longitude [deg]\n",
    "#   - hgt: aircraft geoAltitude [m]\n",
    "#   - st_loc: stations' locations in format (lat_1, lon_1, hgt_1, ..., lat_n, lon_n, hgt_n), where n - number of stations\n",
    "#   - st_t: stations' measured time [s]\n",
    "#   - st_dt: delta true time between two stations in format (T_1-T_0, T_2-T_0, ... T_n-T_0) [s] \n",
    "#   - st_sigma: standard deviation of delta T measurents for given two stations in format (sigma_01, ..., sigma_0n) [s] \n",
    "#   - N: number of stations\n",
    "#\n",
    "# Output:\n",
    "#   - residual error as SQRT(SUM(error_i) / N)\n",
    "# --------------------------------------------------------------------\n",
    "\n",
    "cdef func_c(double lat,\n",
    "            double lon,\n",
    "            double hgt,\n",
    "            double* st_loc,\n",
    "            double* st_t,\n",
    "            double* st_dt,\n",
    "            double* st_sigma,\n",
    "            int N):\n",
    "    \n",
    "    cdef:\n",
    "        double err = 0\n",
    "        double dt, ds\n",
    "        double sigma\n",
    "        int i, j\n",
    "    \n",
    "    # two loops over all unique combinations of stations\n",
    "    for i in range(N-1):\n",
    "        for j in range(i+1, N):\n",
    "            if i == 0:\n",
    "                # delta true time and sigma are directly provided\n",
    "                dt = st_dt[j-1]\n",
    "                sigma = st_sigma[j-1]\n",
    "            else:\n",
    "                # T_j - T_i = (T_j - T_0) - (T_i - T_0)\n",
    "                dt = st_dt[j-1] - st_dt[i-1]\n",
    "                sigma = max(st_sigma[i-1], st_sigma[j-1])\n",
    "            \n",
    "            # dt [in seconds!] = T0_j - T0_i - (T_j - T_i)\n",
    "            dt = st_t[j] - st_t[i] - dt\n",
    "            # ds [in meters] = delta distance between aircraft and two stations in [m]\n",
    "            ds = dist3d_c(lat, lon, hgt, st_loc[3*j], st_loc[3*j+1], st_loc[3*j+2]) - dist3d_c(lat, lon, hgt, st_loc[3*i], st_loc[3*i+1], st_loc[3*i+2])\n",
    "            # residual error, where 299792458 is the speed of light in [m/s]\n",
    "            err += pow(dt - ds/299792458., 2) / pow(sigma, 2)\n",
    "    return sqrt(err / float(N))\n",
    "\n",
    "\n",
    "# --------------------------------------------------------------------\n",
    "# Python wrapper for Cython function\n",
    "# --------------------------------------------------------------------\n",
    "\n",
    "def func_p(x,\n",
    "         hgt,\n",
    "         np.ndarray[np.double_t, ndim=1] st_loc,\n",
    "         np.ndarray[np.double_t, ndim=1] st_t,\n",
    "         np.ndarray[np.double_t, ndim=1] st_dt,\n",
    "         np.ndarray[np.double_t, ndim=1] st_sigma):\n",
    "    \n",
    "    N = len(st_t)\n",
    "    result = func_c(\n",
    "        x[0], x[1], hgt,\n",
    "        <double*> st_loc.data,\n",
    "        <double*> st_t.data,\n",
    "        <double*> st_dt.data,\n",
    "        <double*> st_sigma.data,\n",
    "        N)\n",
    "    \n",
    "    return result"
   ]
  },
  {
   "cell_type": "markdown",
   "metadata": {},
   "source": [
    "# 2. Multilateration algorithm\n",
    "\n",
    "#### Theory\n",
    "\n",
    "Well known equation for one station in cartesian coordinates:\n",
    "\n",
    "$ c \\left(T_{0} - T\\right) = d(\\vec{r_{0}}, \\vec{r}) = \\sqrt{(x_{0} - x)^{2} + (y_{0} - y)^{2} + (z_{0} - z)^{2}}$\n",
    "\n",
    "where $c$ is the speed of light; $T_{0}$ - station raw time measurement; $T$ - station true time measurement; $x_{0}$, $y_{0}$, $z_{0}$ and $x$, $y$, $z$ - cartesian coordinates for a station and aircraft (at time $T$) correspondigly. \n",
    "\n",
    "Applied to the current task, there are three variables in this equation: $T$, $x$ and $y$ ($z$ is predicted using baroAltitude, station location is known). So, minimimum three equations (three station measurements) are required. I would like to rewrite this equation for the case of two stations measurements as follows:\n",
    "\n",
    "$ c \\left(T_{02} - T_{01}\\right) - c (T_{2} - T_{1}) = d(\\vec{r_{2}}, \\vec{r}) - d(\\vec{r_{1}}, \\vec{r})$\n",
    "\n",
    "where $T_{02}$, $T_{01}$ are stations raw time measurements; $T_{2} - T_{1}$ is clock shift between two stations; $d(\\vec{r_{2}}, \\vec{r})$, $d(\\vec{r_{1}}, \\vec{r})$ are distances between two stations and the aircraft.\n",
    "\n",
    "#### Implementation\n",
    "\n",
    "It was shown above that at least three stations measurements are required to find aircraft location. However, I would prefer to find locations of all records with 4+ measurements first as in this case I would expect better convergence (due to extra measurement) and estimation of location error included. If a record has more than 4 measurements, I will calculate location multiple times for different combinations of 4 stations and select the one with minimum residual error. So, my algorithm consists of the following steps:\n",
    " - find all combinations of 4 stations available in records;\n",
    " - for each combination of stations:\n",
    "     - fit NearestNeighbours model on all delta T0 (raw time) data from train;\n",
    "     - for each record find the closest 10 points in train by delta Ttest using NearestNeighbours model;\n",
    "     - estimate initial location for a record as average value for latitude and longitude across the closest train points;\n",
    "     - estimate clock shift between each pair of stations as a median value of clock shifts across the closest train points;\n",
    "     - use fmin_l_bgfs_b nonlinear optimization method with Cython function for residual error to calculate precise location for a record;\n",
    "     - save new location if there is no location for this record yet or if residual error from the previous estimation is bigger.\n",
    " - find all the rest records where 3 stations are available;\n",
    " - for each combination of stations:\n",
    "     - repeat all the steps as for combinations of 4+ stations;\n",
    "     - save all new locations found.\n",
    "\n",
    "## Solve equations for all combinations of 4 stations available"
   ]
  },
  {
   "cell_type": "code",
   "execution_count": 27,
   "metadata": {},
   "outputs": [
    {
     "name": "stderr",
     "output_type": "stream",
     "text": [
      "100%|██████████| 33/33 [01:27<00:00,  2.66s/it]\n"
     ]
    }
   ],
   "source": [
    "## all combinations of 4 stations\n",
    "\n",
    "res = []\n",
    "\n",
    "for i in tqdm(range(Ttest.shape[1])):\n",
    "    for j in range(i+1, Ttest.shape[1]):\n",
    "        for k in range(j+1, Ttest.shape[1]):\n",
    "            for m in range(k+1, Ttest.shape[1]):\n",
    "                if len(np.where((Ttest[:, i]!=0) &\n",
    "                                (Ttest[:, j]!=0) &\n",
    "                                (Ttest[:, k]!=0) &\n",
    "                                (Ttest[:, m]!=0))[0]) > 0:\n",
    "                    res += [[i, j, k, m]]"
   ]
  },
  {
   "cell_type": "code",
   "execution_count": 28,
   "metadata": {},
   "outputs": [],
   "source": [
    "# resulting array\n",
    "result_test = -1 * np.ones([test.shape[0], 3])\n",
    "\n",
    "# geoAltitude for test\n",
    "height_test = splev(test.baroAltitude.values, spl)"
   ]
  },
  {
   "cell_type": "code",
   "execution_count": 29,
   "metadata": {},
   "outputs": [],
   "source": [
    "# indexes of 4+ measurements\n",
    "ind4 = np.where(test.numMeasurements>3)[0]"
   ]
  },
  {
   "cell_type": "code",
   "execution_count": 30,
   "metadata": {},
   "outputs": [
    {
     "name": "stderr",
     "output_type": "stream",
     "text": [
      "100%|██████████| 4054/4054 [13:16<00:00,  5.09it/s]  \n"
     ]
    }
   ],
   "source": [
    "from sklearn.neighbors import NearestNeighbors\n",
    "from scipy.optimize import fmin_l_bfgs_b\n",
    "\n",
    "# loop over combinations of stations\n",
    "for res_i in tqdm(range(len(res))):\n",
    "    # stations available\n",
    "    t_ind = res[res_i]\n",
    "\n",
    "    # indexes of records in test\n",
    "    ind = ind4[np.where((Ttest[ind4, t_ind[0]]!=0) &\n",
    "                        (Ttest[ind4, t_ind[1]]!=0) &\n",
    "                        (Ttest[ind4, t_ind[2]]!=0) &\n",
    "                        (Ttest[ind4, t_ind[3]]!=0))[0]]\n",
    "\n",
    "    # indexes of records in train\n",
    "    ind1 = np.where((T0[:, t_ind[0]]!=0) &\n",
    "                    (T0[:, t_ind[1]]!=0) &\n",
    "                    (T0[:, t_ind[2]]!=0) &\n",
    "                    (T0[:, t_ind[3]]!=0))[0]\n",
    "\n",
    "    # form a search matrix. T1 - delta Ttest for test, T2 - delta T0 for train\n",
    "    for i, j in enumerate(t_ind[1:]):\n",
    "        if i==0:\n",
    "            T1 = (Ttest[ind, j] - Ttest[ind, t_ind[0]]).reshape(-1, 1)\n",
    "            T2 = (T0[ind1, j] - T0[ind1, t_ind[0]]).reshape(-1, 1)\n",
    "        else:\n",
    "            T1 = np.c_[T1, (Ttest[ind, j] - Ttest[ind, t_ind[0]]).reshape(-1, 1)]\n",
    "            T2 = np.c_[T2, (T0[ind1, j] - T0[ind1, t_ind[0]]).reshape(-1, 1)]\n",
    "\n",
    "    # If there is less than 10 points in train available -> break\n",
    "    if T2.shape[0] < 10:\n",
    "        continue\n",
    "    \n",
    "    # train ML model\n",
    "    neigh = NearestNeighbors(n_neighbors=10)\n",
    "    neigh.fit(T2)\n",
    "\n",
    "    # delta true time T between stations\n",
    "    dt = np.zeros([len(ind), 3])  # size 3 = 4 - 1\n",
    "    \n",
    "    # initial position\n",
    "    x0 = np.zeros(2)\n",
    "\n",
    "    # loop over records in test\n",
    "    for i in range(T1.shape[0]):\n",
    "        # indexes in train of closest points to a test point\n",
    "        ii = ind1[neigh.kneighbors(T1[i, :].reshape(1, 3))[1][0]]\n",
    "\n",
    "        # initial location estimation = mean value across nearest points from train\n",
    "        x0[0] = np.mean(train.latitude.values[ii])\n",
    "        x0[1] = np.mean(train.longitude.values[ii])\n",
    "\n",
    "        # fill in dt with a median value\n",
    "        for j, k in enumerate(t_ind[1:]):\n",
    "            dt[i, j] = np.median((T[ii, k] - T[ii, t_ind[0]]).flatten())\n",
    "\n",
    "    # stations locations\n",
    "    q_loc = sensors.loc[sensors.serial.isin([st_dict_rev[a] for a in t_ind]), ['latitude', 'longitude', 'height']].as_matrix().flatten()\n",
    "    # stations time measurements\n",
    "    tx = np.c_[Ttest[ind, t_ind[0]], Ttest[ind, t_ind[1]], Ttest[ind, t_ind[2]], Ttest[ind, t_ind[3]]]\n",
    "    # decided to use the same sigma values for all stations\n",
    "    sigma = np.array([100, 100, 100])/1e9\n",
    "\n",
    "    # temporary storage for results\n",
    "    loc_test = np.zeros([len(ind), 3])\n",
    "\n",
    "    # loop over records in test\n",
    "    for i in range(len(ind)):\n",
    "        q = fmin_l_bfgs_b(func_p, x0, approx_grad=1, args=(height_test[ind[i]], q_loc, tx[i, :]/1e9, (dt[i, :])/1e9, sigma))  # tx and dt in seconds!\n",
    "        loc_test[i, :2] = q[0]  # save location\n",
    "        loc_test[i, 2] = q[1]  # save error\n",
    "        \n",
    "    # loop over records in test\n",
    "    # save results\n",
    "    for i, j in enumerate(ind):\n",
    "        if (result_test[j, 2] == -1) or (loc_test[i, 2] < result_test[j, 2]):\n",
    "            result_test[j, :] = loc_test[i, :]"
   ]
  },
  {
   "cell_type": "markdown",
   "metadata": {},
   "source": [
    "## Solve equations for all the rest records where 3 stations are available"
   ]
  },
  {
   "cell_type": "code",
   "execution_count": 31,
   "metadata": {},
   "outputs": [
    {
     "name": "stderr",
     "output_type": "stream",
     "text": [
      "100%|██████████| 33/33 [00:03<00:00,  9.47it/s]\n"
     ]
    }
   ],
   "source": [
    "## all combinations of 3 stations\n",
    "\n",
    "res = []\n",
    "\n",
    "ii = np.where(result_test[:, 2]==-1)[0]\n",
    "\n",
    "for i in tqdm(range(Ttest.shape[1])):\n",
    "    for j in range(i+1, Ttest.shape[1]):\n",
    "        for k in range(j+1, Ttest.shape[1]):\n",
    "            if len(np.where((Ttest[ii, i]!=0) &\n",
    "                            (Ttest[ii, j]!=0) &\n",
    "                            (Ttest[ii, k]!=0))[0]) > 0:\n",
    "                res += [[i, j, k]]"
   ]
  },
  {
   "cell_type": "code",
   "execution_count": 32,
   "metadata": {},
   "outputs": [
    {
     "name": "stderr",
     "output_type": "stream",
     "text": [
      "100%|██████████| 776/776 [01:37<00:00,  7.97it/s]\n"
     ]
    }
   ],
   "source": [
    "ind3 = np.where(result_test[:, 2]==-1)[0]\n",
    "\n",
    "# loop over combinations of stations\n",
    "for res_i in tqdm(range(len(res))):\n",
    "    # stations available\n",
    "    t_ind = res[res_i]\n",
    "\n",
    "    # # indexes of records in test\n",
    "    ind = ind3[np.where((Ttest[ind3, t_ind[0]]!=0) &\n",
    "                        (Ttest[ind3, t_ind[1]]!=0) &\n",
    "                        (Ttest[ind3, t_ind[2]]!=0))[0]]\n",
    "\n",
    "    # # indexes of records in train\n",
    "    ind1 = np.where((T0[:, t_ind[0]]!=0) &\n",
    "                    (T0[:, t_ind[1]]!=0) &\n",
    "                    (T0[:, t_ind[2]]!=0))[0]\n",
    "\n",
    "    # form search matrix. T1 - delta Ttest for test, T2 - delta T0 for train\n",
    "    for i, j in enumerate(t_ind[1:]):\n",
    "        if i==0:\n",
    "            T1 = (Ttest[ind, j] - Ttest[ind, t_ind[0]]).reshape(-1, 1)\n",
    "            T2 = (T0[ind1, j] - T0[ind1, t_ind[0]]).reshape(-1, 1)\n",
    "        else:\n",
    "            T1 = np.c_[T1, (Ttest[ind, j] - Ttest[ind, t_ind[0]]).reshape(-1, 1)]\n",
    "            T2 = np.c_[T2, (T0[ind1, j] - T0[ind1, t_ind[0]]).reshape(-1, 1)]\n",
    "\n",
    "    # If there is less than 10 points in train available -> break\n",
    "    if T2.shape[0] < 10:\n",
    "        continue\n",
    "        \n",
    "    # train ML model\n",
    "    neigh = NearestNeighbors(n_neighbors=10)\n",
    "    neigh.fit(T2)\n",
    "\n",
    "    # delta true time T between stations\n",
    "    dt = np.zeros([len(ind), 2])\n",
    "    \n",
    "    # initial position\n",
    "    x0 = np.zeros(2)\n",
    "\n",
    "    # loop over records in test\n",
    "    for i in range(T1.shape[0]):\n",
    "        # indexes in train of closest points to a test point\n",
    "        ii = ind1[neigh.kneighbors(T1[i, :].reshape(1, 2))[1][0]]\n",
    "\n",
    "        # initial location estimation\n",
    "        x0[0] = np.mean(train.latitude.values[ii])\n",
    "        x0[1] = np.mean(train.longitude.values[ii])\n",
    "\n",
    "\n",
    "        # fill in dt with a median value\n",
    "        for j, k in enumerate(t_ind[1:]):\n",
    "            dt[i, j] = np.median((T[ii, k] - T[ii, t_ind[0]]).flatten())\n",
    "\n",
    "    # stations locations\n",
    "    q_loc = sensors.loc[sensors.serial.isin([st_dict_rev[a] for a in t_ind]), ['latitude', 'longitude', 'height']].as_matrix().flatten()\n",
    "    # stations time measurements\n",
    "    tx = np.c_[Ttest[ind, t_ind[0]], Ttest[ind, t_ind[1]], Ttest[ind, t_ind[2]]]\n",
    "    # decided to use the same sigma values for all stations\n",
    "    sigma = np.array([100, 100])/1e9\n",
    "\n",
    "    # temporary storage for results\n",
    "    loc_test = np.zeros([len(ind), 3])\n",
    "\n",
    "    # loop over records in test\n",
    "    for i in range(len(ind)):\n",
    "        q = fmin_l_bfgs_b(func_p, x0, approx_grad=1, args=(height_test[ind[i]], q_loc, tx[i, :]/1e9, (dt[i, :])/1e9, sigma))\n",
    "        loc_test[i, :2] = q[0]\n",
    "        loc_test[i, 2] = q[1]\n",
    "        \n",
    "    # loop over records in test\n",
    "    # save results\n",
    "    for i, j in enumerate(ind):\n",
    "        result_test[j, :] = loc_test[i, :]"
   ]
  },
  {
   "cell_type": "code",
   "execution_count": 33,
   "metadata": {},
   "outputs": [],
   "source": [
    "# Save calculated locations and errors\n",
    "\n",
    "test['latitude'] = result_test[:, 0]\n",
    "test['longitude'] = result_test[:, 1]\n",
    "test['geoAltitude'] = height_test\n",
    "test['err'] = result_test[:, 2]"
   ]
  },
  {
   "cell_type": "code",
   "execution_count": 34,
   "metadata": {},
   "outputs": [],
   "source": [
    "test.to_csv('test_preprocessed.csv', index=False)"
   ]
  },
  {
   "cell_type": "markdown",
   "metadata": {},
   "source": [
    "# 3. Filtration of calculated locations from step 2\n",
    "\n",
    "After step 2 a lot of points have incorrect locations, so before moving forward some filtering is required.\n",
    "\n",
    "I found that combination of the following three filters remove almost all outliers. The filters are:\n",
    " - first DBSCAN filter. This filter removes points that are not dense enough;\n",
    " - direction filter (definition below). This filter checks that points are on the same line;\n",
    " - second DBSCAN filter. Removes the rest small clusters of dense points which haven't been removed by the previous filters.\n",
    " \n",
    "I was searching filter parameters manually for each aircraft track in test although most of them have the same value across tracks. Step 4 also includes some filtration, so it is not necessary to remove all outliers.\n",
    " \n",
    "#### Direction filter\n",
    "\n",
    "Consider three points $P_{1}$, $P_{2}$ and $P_{3}$, where corresponding times are $t_{1} < t_{2} < t_{3}$.\n",
    "Then, we can calculate distances between them and create a difference as\n",
    "$\\Delta{d} = d(P_{3}, P_{1}) - d(P_{3}, P_{2}) - d(P_{2}, P_{1})$\n",
    "\n",
    "Parameters of this filter are:\n",
    " - k: a step so that $P_{2} = P[j]$, $P_{3} = P[j + k]$ and $P_{1} = P[j - k]$\n",
    " - threshold: remove points where $\\Delta{d} > threshold$"
   ]
  },
  {
   "cell_type": "code",
   "execution_count": 35,
   "metadata": {},
   "outputs": [],
   "source": [
    "# Download points from step 2\n",
    "test = pd.read_csv('test_preprocessed.csv')"
   ]
  },
  {
   "cell_type": "code",
   "execution_count": 36,
   "metadata": {},
   "outputs": [
    {
     "data": {
      "text/plain": [
       "array([1839, 2109, 1428,  995,  172, 2669, 1348, 1076, 2514,  149, 1305,\n",
       "        741, 2818, 2231, 2140, 1552, 2071, 1031, 2027, 1503, 1539, 1434,\n",
       "        350, 1984, 1855, 1429, 1380,  429, 1979,  141,  253, 2771])"
      ]
     },
     "execution_count": 36,
     "metadata": {},
     "output_type": "execute_result"
    }
   ],
   "source": [
    "# A list of aircraft numbers in test so that to work with them as r[i] where i = 0, 1, ..., 31\n",
    "r = test.aircraft.unique()\n",
    "r"
   ]
  },
  {
   "cell_type": "code",
   "execution_count": 37,
   "metadata": {},
   "outputs": [],
   "source": [
    "from sklearn.cluster import DBSCAN\n",
    "    \n",
    "def filter_track(aircraft_id,\n",
    "                 lat_gr=None, lat_ls=None,\n",
    "                 lon_gr=None, lon_ls=None,\n",
    "                 db1_eps=0.02, db1_n=5,\n",
    "                 k=3, rad=20,\n",
    "                 db2_eps=None, db2_n=None,\n",
    "                 plot=None):\n",
    "    \n",
    "    # remove points with residual error > 1\n",
    "    da = test[test.aircraft==r[aircraft_id]].loc[lambda x: x.err<1]\n",
    "    \n",
    "    # filter latitude and / or longitude if required\n",
    "    if lat_gr:\n",
    "        da = da[da.latitude > lat_gr]\n",
    "        \n",
    "    if lat_ls:\n",
    "        da = da[da.latitude < lat_ls]\n",
    "        \n",
    "    if lon_gr:\n",
    "        da = da[da.longitude > lon_gr]\n",
    "        \n",
    "    if lon_ls:\n",
    "        da = da[da.longitude < lon_ls]\n",
    "        \n",
    "    #print('Init', da.shape)\n",
    "    \n",
    "    # plot points before main filtration\n",
    "    if plot == 'init':\n",
    "        figsize(15, 10)\n",
    "        plt.scatter(da.longitude, da.latitude, c=np.log10(da.err))\n",
    "        plt.xlabel('Longitude')\n",
    "        plt.ylabel('Latitude')\n",
    "        plt.colorbar()\n",
    "        return da\n",
    "    \n",
    "    \n",
    "    # First filter DBSCAN\n",
    "    if (db1_eps is not None) and (db1_n is not None):\n",
    "        # fit DBSCAN\n",
    "        db = DBSCAN(eps=db1_eps, min_samples=db1_n).fit(da[['latitude', 'longitude']].as_matrix())\n",
    "        # apply filter\n",
    "        da = da.iloc[np.where(db.labels_!=-1)[0]]\n",
    "        #print('DB1', da.shape)\n",
    "        \n",
    "        # plot remaining points\n",
    "        if plot == 'db1':\n",
    "            figsize(15, 10)\n",
    "            plt.scatter(da.longitude, da.latitude, c=np.log10(da.err))\n",
    "            plt.xlabel('Longitude')\n",
    "            plt.ylabel('Latitude')\n",
    "            plt.colorbar()\n",
    "            return da\n",
    "\n",
    "        \n",
    "    # Direction filter\n",
    "    if (k is not None) and (rad is not None):\n",
    "        lat = da.latitude.values\n",
    "        lon = da.longitude.values\n",
    "        hgt = da.geoAltitude.values\n",
    "\n",
    "        # Absolute difference between distances in meters between three stations.\n",
    "        # k - step, rad - threshold\n",
    "        d2 = np.abs(np.array([dist3d(P3(lat[i+k], lon[i+k], hgt[i+k]), P3(lat[i-k], lon[i-k], hgt[i-k])) -\n",
    "                              dist3d(P3(lat[i+k], lon[i+k], hgt[i+k]), P3(lat[i], lon[i], hgt[i])) -\n",
    "                              dist3d(P3(lat[i], lon[i], hgt[i]), P3(lat[i-k], lon[i-k], hgt[i-k])) for i in range(k, da.shape[0]-k)]))\n",
    "        # apply filter\n",
    "        da = da.iloc[np.where(d2 < rad)[0]+k]\n",
    "        #print('LinFilt', da.shape)\n",
    "        \n",
    "        # plot remaining points\n",
    "        if plot == 'linfilt':\n",
    "            figsize(15, 10)\n",
    "            plt.scatter(da.longitude, da.latitude, c=np.log10(da.err))\n",
    "            plt.xlabel('Longitude')\n",
    "            plt.ylabel('Latitude')\n",
    "            plt.colorbar()\n",
    "            return da\n",
    "    \n",
    "    \n",
    "    # Second filter DBSCAN\n",
    "    if (db2_eps is not None) and (db2_n is not None):\n",
    "        # fit DBSCAN\n",
    "        db = DBSCAN(eps=db2_eps, min_samples=db2_n).fit(da[['latitude', 'longitude']].as_matrix())\n",
    "        # apply filter\n",
    "        da = da.iloc[np.where(db.labels_!=-1)[0]]\n",
    "        #print('DB2', da.shape)\n",
    "        \n",
    "        # plot remaining points\n",
    "        if plot == 'db2':\n",
    "            figsize(15, 10)\n",
    "            plt.scatter(da.longitude, da.latitude, c=np.log10(da.err))\n",
    "            plt.xlabel('Longitude')\n",
    "            plt.ylabel('Latitude')\n",
    "            plt.colorbar()\n",
    "            return da\n",
    "\n",
    "    return da"
   ]
  },
  {
   "cell_type": "markdown",
   "metadata": {},
   "source": [
    "## Test filters\n",
    "\n",
    "### Points from step 2 before filtration"
   ]
  },
  {
   "cell_type": "code",
   "execution_count": 38,
   "metadata": {},
   "outputs": [
    {
     "name": "stdout",
     "output_type": "stream",
     "text": [
      "Aircraft number 1428\n"
     ]
    },
    {
     "data": {
      "image/png": "[encoded data removed]",
      "text/plain": [
       "<Figure size 1080x720 with 2 Axes>"
      ]
     },
     "metadata": {
      "needs_background": "light"
     },
     "output_type": "display_data"
    }
   ],
   "source": [
    "print('Aircraft number', r[2])\n",
    "\n",
    "_ = filter_track(2,\n",
    "             lat_gr=None, lat_ls=None,\n",
    "             lon_gr=None, lon_ls=None,\n",
    "             db1_eps=0.05, db1_n=5,\n",
    "             k=3, rad=5,\n",
    "             db2_eps=0.05, db2_n=5,\n",
    "             plot='init')\n",
    "\n",
    "_ = plt.xlim([0, 20])\n",
    "_ = plt.ylim([40, 60])"
   ]
  },
  {
   "cell_type": "markdown",
   "metadata": {},
   "source": [
    "### First DBSCAN filter"
   ]
  },
  {
   "cell_type": "code",
   "execution_count": 39,
   "metadata": {},
   "outputs": [
    {
     "name": "stdout",
     "output_type": "stream",
     "text": [
      "Aircraft number 1428\n"
     ]
    },
    {
     "data": {
      "image/png": "[encoded data removed]",
      "text/plain": [
       "<Figure size 1080x720 with 2 Axes>"
      ]
     },
     "metadata": {
      "needs_background": "light"
     },
     "output_type": "display_data"
    }
   ],
   "source": [
    "print('Aircraft number', r[2])\n",
    "\n",
    "_ = filter_track(2,\n",
    "             lat_gr=None, lat_ls=None,\n",
    "             lon_gr=None, lon_ls=None,\n",
    "             db1_eps=0.05, db1_n=5,\n",
    "             k=3, rad=5,\n",
    "             db2_eps=0.05, db2_n=5,\n",
    "             plot='db1')"
   ]
  },
  {
   "cell_type": "markdown",
   "metadata": {},
   "source": [
    "### Direction filter"
   ]
  },
  {
   "cell_type": "code",
   "execution_count": 40,
   "metadata": {},
   "outputs": [
    {
     "name": "stdout",
     "output_type": "stream",
     "text": [
      "Aircraft number 1428\n"
     ]
    },
    {
     "data": {
      "image/png": "[encoded data removed]",
      "text/plain": [
       "<Figure size 1080x720 with 2 Axes>"
      ]
     },
     "metadata": {
      "needs_background": "light"
     },
     "output_type": "display_data"
    }
   ],
   "source": [
    "print('Aircraft number', r[2])\n",
    "\n",
    "_ = filter_track(2,\n",
    "             lat_gr=None, lat_ls=None,\n",
    "             lon_gr=None, lon_ls=None,\n",
    "             db1_eps=0.05, db1_n=5,\n",
    "             k=3, rad=5,\n",
    "             db2_eps=0.05, db2_n=5,\n",
    "             plot='linfilt')"
   ]
  },
  {
   "cell_type": "markdown",
   "metadata": {},
   "source": [
    "### Second DBSCAN filter"
   ]
  },
  {
   "cell_type": "code",
   "execution_count": 41,
   "metadata": {},
   "outputs": [
    {
     "name": "stdout",
     "output_type": "stream",
     "text": [
      "Aircraft number 1428\n"
     ]
    },
    {
     "data": {
      "image/png": "[encoded data removed]",
      "text/plain": [
       "<Figure size 1080x720 with 2 Axes>"
      ]
     },
     "metadata": {
      "needs_background": "light"
     },
     "output_type": "display_data"
    }
   ],
   "source": [
    "print('Aircraft number', r[2])\n",
    "\n",
    "_ = filter_track(2,\n",
    "             lat_gr=None, lat_ls=None,\n",
    "             lon_gr=None, lon_ls=None,\n",
    "             db1_eps=0.05, db1_n=5,\n",
    "             k=3, rad=5,\n",
    "             db2_eps=0.05, db2_n=5,\n",
    "             plot='db2')"
   ]
  },
  {
   "cell_type": "markdown",
   "metadata": {},
   "source": [
    "### Prepare 'base points' (filtered points) for the next step 4\n",
    "\n",
    "In the solution of 33.6m I used all test tracks except the following: 1839, 2109, 1434, 1979, 2771. Adding the remaining 5 tracks increased a score to about 35m."
   ]
  },
  {
   "cell_type": "code",
   "execution_count": 42,
   "metadata": {},
   "outputs": [
    {
     "data": {
      "text/html": [
       "<div>\n",
       "<style scoped>\n",
       "    .dataframe tbody tr th:only-of-type {\n",
       "        vertical-align: middle;\n",
       "    }\n",
       "\n",
       "    .dataframe tbody tr th {\n",
       "        vertical-align: top;\n",
       "    }\n",
       "\n",
       "    .dataframe thead th {\n",
       "        text-align: right;\n",
       "    }\n",
       "</style>\n",
       "<table border=\"1\" class=\"dataframe\">\n",
       "  <thead>\n",
       "    <tr style=\"text-align: right;\">\n",
       "      <th></th>\n",
       "      <th>id</th>\n",
       "      <th>lat_gr</th>\n",
       "      <th>lat_ls</th>\n",
       "      <th>lon_gr</th>\n",
       "      <th>lon_ls</th>\n",
       "      <th>db1_eps</th>\n",
       "      <th>db1_n</th>\n",
       "      <th>k</th>\n",
       "      <th>rad</th>\n",
       "      <th>db2_eps</th>\n",
       "      <th>db2_n</th>\n",
       "    </tr>\n",
       "  </thead>\n",
       "  <tbody>\n",
       "    <tr>\n",
       "      <td>0</td>\n",
       "      <td>0</td>\n",
       "      <td>None</td>\n",
       "      <td>None</td>\n",
       "      <td>None</td>\n",
       "      <td>None</td>\n",
       "      <td>0.02</td>\n",
       "      <td>5</td>\n",
       "      <td>3</td>\n",
       "      <td>10</td>\n",
       "      <td>0.05</td>\n",
       "      <td>5</td>\n",
       "    </tr>\n",
       "    <tr>\n",
       "      <td>1</td>\n",
       "      <td>1</td>\n",
       "      <td>None</td>\n",
       "      <td>None</td>\n",
       "      <td>None</td>\n",
       "      <td>None</td>\n",
       "      <td>0.02</td>\n",
       "      <td>5</td>\n",
       "      <td>3</td>\n",
       "      <td>10</td>\n",
       "      <td>0.05</td>\n",
       "      <td>5</td>\n",
       "    </tr>\n",
       "    <tr>\n",
       "      <td>2</td>\n",
       "      <td>2</td>\n",
       "      <td>None</td>\n",
       "      <td>None</td>\n",
       "      <td>None</td>\n",
       "      <td>None</td>\n",
       "      <td>0.05</td>\n",
       "      <td>5</td>\n",
       "      <td>3</td>\n",
       "      <td>5</td>\n",
       "      <td>0.05</td>\n",
       "      <td>5</td>\n",
       "    </tr>\n",
       "    <tr>\n",
       "      <td>3</td>\n",
       "      <td>3</td>\n",
       "      <td>None</td>\n",
       "      <td>None</td>\n",
       "      <td>7.1</td>\n",
       "      <td>None</td>\n",
       "      <td>0.02</td>\n",
       "      <td>3</td>\n",
       "      <td>3</td>\n",
       "      <td>10</td>\n",
       "      <td>0.05</td>\n",
       "      <td>5</td>\n",
       "    </tr>\n",
       "    <tr>\n",
       "      <td>4</td>\n",
       "      <td>4</td>\n",
       "      <td>None</td>\n",
       "      <td>None</td>\n",
       "      <td>None</td>\n",
       "      <td>None</td>\n",
       "      <td>0.02</td>\n",
       "      <td>5</td>\n",
       "      <td>3</td>\n",
       "      <td>20</td>\n",
       "      <td>0.1</td>\n",
       "      <td>20</td>\n",
       "    </tr>\n",
       "    <tr>\n",
       "      <td>5</td>\n",
       "      <td>5</td>\n",
       "      <td>None</td>\n",
       "      <td>None</td>\n",
       "      <td>None</td>\n",
       "      <td>None</td>\n",
       "      <td>0.02</td>\n",
       "      <td>5</td>\n",
       "      <td>3</td>\n",
       "      <td>20</td>\n",
       "      <td>0.05</td>\n",
       "      <td>10</td>\n",
       "    </tr>\n",
       "    <tr>\n",
       "      <td>6</td>\n",
       "      <td>6</td>\n",
       "      <td>None</td>\n",
       "      <td>None</td>\n",
       "      <td>None</td>\n",
       "      <td>None</td>\n",
       "      <td>0.02</td>\n",
       "      <td>5</td>\n",
       "      <td>3</td>\n",
       "      <td>20</td>\n",
       "      <td>0.05</td>\n",
       "      <td>10</td>\n",
       "    </tr>\n",
       "    <tr>\n",
       "      <td>7</td>\n",
       "      <td>7</td>\n",
       "      <td>None</td>\n",
       "      <td>None</td>\n",
       "      <td>None</td>\n",
       "      <td>8</td>\n",
       "      <td>0.02</td>\n",
       "      <td>5</td>\n",
       "      <td>3</td>\n",
       "      <td>20</td>\n",
       "      <td>0.05</td>\n",
       "      <td>15</td>\n",
       "    </tr>\n",
       "    <tr>\n",
       "      <td>8</td>\n",
       "      <td>8</td>\n",
       "      <td>None</td>\n",
       "      <td>None</td>\n",
       "      <td>None</td>\n",
       "      <td>None</td>\n",
       "      <td>0.03</td>\n",
       "      <td>5</td>\n",
       "      <td>3</td>\n",
       "      <td>20</td>\n",
       "      <td>0.05</td>\n",
       "      <td>7</td>\n",
       "    </tr>\n",
       "    <tr>\n",
       "      <td>9</td>\n",
       "      <td>9</td>\n",
       "      <td>47</td>\n",
       "      <td>None</td>\n",
       "      <td>None</td>\n",
       "      <td>None</td>\n",
       "      <td>0.03</td>\n",
       "      <td>5</td>\n",
       "      <td>3</td>\n",
       "      <td>20</td>\n",
       "      <td>0.05</td>\n",
       "      <td>5</td>\n",
       "    </tr>\n",
       "    <tr>\n",
       "      <td>10</td>\n",
       "      <td>10</td>\n",
       "      <td>None</td>\n",
       "      <td>None</td>\n",
       "      <td>None</td>\n",
       "      <td>None</td>\n",
       "      <td>0.015</td>\n",
       "      <td>5</td>\n",
       "      <td>3</td>\n",
       "      <td>8</td>\n",
       "      <td>0.05</td>\n",
       "      <td>5</td>\n",
       "    </tr>\n",
       "    <tr>\n",
       "      <td>11</td>\n",
       "      <td>11</td>\n",
       "      <td>None</td>\n",
       "      <td>None</td>\n",
       "      <td>None</td>\n",
       "      <td>None</td>\n",
       "      <td>0.05</td>\n",
       "      <td>5</td>\n",
       "      <td>3</td>\n",
       "      <td>10</td>\n",
       "      <td>0.1</td>\n",
       "      <td>5</td>\n",
       "    </tr>\n",
       "    <tr>\n",
       "      <td>12</td>\n",
       "      <td>12</td>\n",
       "      <td>None</td>\n",
       "      <td>None</td>\n",
       "      <td>None</td>\n",
       "      <td>None</td>\n",
       "      <td>0.02</td>\n",
       "      <td>5</td>\n",
       "      <td>3</td>\n",
       "      <td>10</td>\n",
       "      <td>0.08</td>\n",
       "      <td>10</td>\n",
       "    </tr>\n",
       "    <tr>\n",
       "      <td>13</td>\n",
       "      <td>13</td>\n",
       "      <td>None</td>\n",
       "      <td>None</td>\n",
       "      <td>None</td>\n",
       "      <td>None</td>\n",
       "      <td>0.1</td>\n",
       "      <td>5</td>\n",
       "      <td>3</td>\n",
       "      <td>10</td>\n",
       "      <td>0.2</td>\n",
       "      <td>10</td>\n",
       "    </tr>\n",
       "    <tr>\n",
       "      <td>14</td>\n",
       "      <td>14</td>\n",
       "      <td>None</td>\n",
       "      <td>None</td>\n",
       "      <td>None</td>\n",
       "      <td>None</td>\n",
       "      <td>0.1</td>\n",
       "      <td>5</td>\n",
       "      <td>3</td>\n",
       "      <td>20</td>\n",
       "      <td>0.3</td>\n",
       "      <td>8</td>\n",
       "    </tr>\n",
       "    <tr>\n",
       "      <td>15</td>\n",
       "      <td>15</td>\n",
       "      <td>None</td>\n",
       "      <td>None</td>\n",
       "      <td>None</td>\n",
       "      <td>None</td>\n",
       "      <td>0.02</td>\n",
       "      <td>5</td>\n",
       "      <td>3</td>\n",
       "      <td>10</td>\n",
       "      <td>0.2</td>\n",
       "      <td>5</td>\n",
       "    </tr>\n",
       "    <tr>\n",
       "      <td>16</td>\n",
       "      <td>16</td>\n",
       "      <td>None</td>\n",
       "      <td>None</td>\n",
       "      <td>None</td>\n",
       "      <td>None</td>\n",
       "      <td>0.01</td>\n",
       "      <td>5</td>\n",
       "      <td>5</td>\n",
       "      <td>3</td>\n",
       "      <td>0.3</td>\n",
       "      <td>4</td>\n",
       "    </tr>\n",
       "    <tr>\n",
       "      <td>17</td>\n",
       "      <td>17</td>\n",
       "      <td>None</td>\n",
       "      <td>None</td>\n",
       "      <td>None</td>\n",
       "      <td>None</td>\n",
       "      <td>0.02</td>\n",
       "      <td>5</td>\n",
       "      <td>3</td>\n",
       "      <td>20</td>\n",
       "      <td>0.05</td>\n",
       "      <td>5</td>\n",
       "    </tr>\n",
       "    <tr>\n",
       "      <td>18</td>\n",
       "      <td>18</td>\n",
       "      <td>None</td>\n",
       "      <td>None</td>\n",
       "      <td>None</td>\n",
       "      <td>None</td>\n",
       "      <td>0.02</td>\n",
       "      <td>5</td>\n",
       "      <td>3</td>\n",
       "      <td>20</td>\n",
       "      <td>0.3</td>\n",
       "      <td>6</td>\n",
       "    </tr>\n",
       "    <tr>\n",
       "      <td>19</td>\n",
       "      <td>19</td>\n",
       "      <td>None</td>\n",
       "      <td>None</td>\n",
       "      <td>None</td>\n",
       "      <td>None</td>\n",
       "      <td>0.03</td>\n",
       "      <td>5</td>\n",
       "      <td>2</td>\n",
       "      <td>10</td>\n",
       "      <td>0.05</td>\n",
       "      <td>5</td>\n",
       "    </tr>\n",
       "    <tr>\n",
       "      <td>20</td>\n",
       "      <td>20</td>\n",
       "      <td>None</td>\n",
       "      <td>None</td>\n",
       "      <td>None</td>\n",
       "      <td>None</td>\n",
       "      <td>0.04</td>\n",
       "      <td>5</td>\n",
       "      <td>4</td>\n",
       "      <td>7</td>\n",
       "      <td>0.3</td>\n",
       "      <td>6</td>\n",
       "    </tr>\n",
       "    <tr>\n",
       "      <td>21</td>\n",
       "      <td>21</td>\n",
       "      <td>None</td>\n",
       "      <td>None</td>\n",
       "      <td>None</td>\n",
       "      <td>None</td>\n",
       "      <td>0.04</td>\n",
       "      <td>3</td>\n",
       "      <td>3</td>\n",
       "      <td>5</td>\n",
       "      <td>0.05</td>\n",
       "      <td>5</td>\n",
       "    </tr>\n",
       "    <tr>\n",
       "      <td>22</td>\n",
       "      <td>22</td>\n",
       "      <td>None</td>\n",
       "      <td>None</td>\n",
       "      <td>None</td>\n",
       "      <td>9</td>\n",
       "      <td>0.02</td>\n",
       "      <td>5</td>\n",
       "      <td>3</td>\n",
       "      <td>1</td>\n",
       "      <td>0.05</td>\n",
       "      <td>5</td>\n",
       "    </tr>\n",
       "    <tr>\n",
       "      <td>23</td>\n",
       "      <td>23</td>\n",
       "      <td>None</td>\n",
       "      <td>None</td>\n",
       "      <td>None</td>\n",
       "      <td>None</td>\n",
       "      <td>0.02</td>\n",
       "      <td>5</td>\n",
       "      <td>2</td>\n",
       "      <td>3</td>\n",
       "      <td>0.05</td>\n",
       "      <td>5</td>\n",
       "    </tr>\n",
       "    <tr>\n",
       "      <td>24</td>\n",
       "      <td>24</td>\n",
       "      <td>None</td>\n",
       "      <td>None</td>\n",
       "      <td>None</td>\n",
       "      <td>9</td>\n",
       "      <td>0.03</td>\n",
       "      <td>5</td>\n",
       "      <td>3</td>\n",
       "      <td>10</td>\n",
       "      <td>0.05</td>\n",
       "      <td>5</td>\n",
       "    </tr>\n",
       "    <tr>\n",
       "      <td>25</td>\n",
       "      <td>25</td>\n",
       "      <td>None</td>\n",
       "      <td>None</td>\n",
       "      <td>None</td>\n",
       "      <td>None</td>\n",
       "      <td>0.02</td>\n",
       "      <td>5</td>\n",
       "      <td>3</td>\n",
       "      <td>1</td>\n",
       "      <td>0.05</td>\n",
       "      <td>5</td>\n",
       "    </tr>\n",
       "    <tr>\n",
       "      <td>26</td>\n",
       "      <td>26</td>\n",
       "      <td>None</td>\n",
       "      <td>None</td>\n",
       "      <td>None</td>\n",
       "      <td>None</td>\n",
       "      <td>0.02</td>\n",
       "      <td>5</td>\n",
       "      <td>3</td>\n",
       "      <td>3</td>\n",
       "      <td>0.05</td>\n",
       "      <td>10</td>\n",
       "    </tr>\n",
       "    <tr>\n",
       "      <td>27</td>\n",
       "      <td>27</td>\n",
       "      <td>None</td>\n",
       "      <td>None</td>\n",
       "      <td>None</td>\n",
       "      <td>8.5</td>\n",
       "      <td>0.02</td>\n",
       "      <td>5</td>\n",
       "      <td>3</td>\n",
       "      <td>5</td>\n",
       "      <td>0.05</td>\n",
       "      <td>10</td>\n",
       "    </tr>\n",
       "    <tr>\n",
       "      <td>28</td>\n",
       "      <td>28</td>\n",
       "      <td>None</td>\n",
       "      <td>None</td>\n",
       "      <td>None</td>\n",
       "      <td>None</td>\n",
       "      <td>0.04</td>\n",
       "      <td>5</td>\n",
       "      <td>3</td>\n",
       "      <td>5</td>\n",
       "      <td>0.05</td>\n",
       "      <td>5</td>\n",
       "    </tr>\n",
       "    <tr>\n",
       "      <td>29</td>\n",
       "      <td>29</td>\n",
       "      <td>None</td>\n",
       "      <td>None</td>\n",
       "      <td>None</td>\n",
       "      <td>None</td>\n",
       "      <td>0.05</td>\n",
       "      <td>5</td>\n",
       "      <td>3</td>\n",
       "      <td>3</td>\n",
       "      <td>0.05</td>\n",
       "      <td>5</td>\n",
       "    </tr>\n",
       "    <tr>\n",
       "      <td>30</td>\n",
       "      <td>30</td>\n",
       "      <td>None</td>\n",
       "      <td>None</td>\n",
       "      <td>None</td>\n",
       "      <td>None</td>\n",
       "      <td>0.02</td>\n",
       "      <td>5</td>\n",
       "      <td>3</td>\n",
       "      <td>10</td>\n",
       "      <td>0.05</td>\n",
       "      <td>5</td>\n",
       "    </tr>\n",
       "    <tr>\n",
       "      <td>31</td>\n",
       "      <td>31</td>\n",
       "      <td>None</td>\n",
       "      <td>None</td>\n",
       "      <td>None</td>\n",
       "      <td>None</td>\n",
       "      <td>0.02</td>\n",
       "      <td>5</td>\n",
       "      <td>3</td>\n",
       "      <td>5</td>\n",
       "      <td>0.05</td>\n",
       "      <td>7</td>\n",
       "    </tr>\n",
       "  </tbody>\n",
       "</table>\n",
       "</div>"
      ],
      "text/plain": [
       "    id lat_gr lat_ls lon_gr lon_ls db1_eps db1_n  k rad db2_eps db2_n\n",
       "0    0   None   None   None   None    0.02     5  3  10    0.05     5\n",
       "1    1   None   None   None   None    0.02     5  3  10    0.05     5\n",
       "2    2   None   None   None   None    0.05     5  3   5    0.05     5\n",
       "3    3   None   None    7.1   None    0.02     3  3  10    0.05     5\n",
       "4    4   None   None   None   None    0.02     5  3  20     0.1    20\n",
       "5    5   None   None   None   None    0.02     5  3  20    0.05    10\n",
       "6    6   None   None   None   None    0.02     5  3  20    0.05    10\n",
       "7    7   None   None   None      8    0.02     5  3  20    0.05    15\n",
       "8    8   None   None   None   None    0.03     5  3  20    0.05     7\n",
       "9    9     47   None   None   None    0.03     5  3  20    0.05     5\n",
       "10  10   None   None   None   None   0.015     5  3   8    0.05     5\n",
       "11  11   None   None   None   None    0.05     5  3  10     0.1     5\n",
       "12  12   None   None   None   None    0.02     5  3  10    0.08    10\n",
       "13  13   None   None   None   None     0.1     5  3  10     0.2    10\n",
       "14  14   None   None   None   None     0.1     5  3  20     0.3     8\n",
       "15  15   None   None   None   None    0.02     5  3  10     0.2     5\n",
       "16  16   None   None   None   None    0.01     5  5   3     0.3     4\n",
       "17  17   None   None   None   None    0.02     5  3  20    0.05     5\n",
       "18  18   None   None   None   None    0.02     5  3  20     0.3     6\n",
       "19  19   None   None   None   None    0.03     5  2  10    0.05     5\n",
       "20  20   None   None   None   None    0.04     5  4   7     0.3     6\n",
       "21  21   None   None   None   None    0.04     3  3   5    0.05     5\n",
       "22  22   None   None   None      9    0.02     5  3   1    0.05     5\n",
       "23  23   None   None   None   None    0.02     5  2   3    0.05     5\n",
       "24  24   None   None   None      9    0.03     5  3  10    0.05     5\n",
       "25  25   None   None   None   None    0.02     5  3   1    0.05     5\n",
       "26  26   None   None   None   None    0.02     5  3   3    0.05    10\n",
       "27  27   None   None   None    8.5    0.02     5  3   5    0.05    10\n",
       "28  28   None   None   None   None    0.04     5  3   5    0.05     5\n",
       "29  29   None   None   None   None    0.05     5  3   3    0.05     5\n",
       "30  30   None   None   None   None    0.02     5  3  10    0.05     5\n",
       "31  31   None   None   None   None    0.02     5  3   5    0.05     7"
      ]
     },
     "execution_count": 42,
     "metadata": {},
     "output_type": "execute_result"
    }
   ],
   "source": [
    "# Create a matrix of params to process all tracks\n",
    "\n",
    "params = pd.DataFrame(columns=['id', 'lat_gr', 'lat_ls', 'lon_gr', 'lon_ls',\n",
    "                               'db1_eps', 'db1_n', 'k', 'rad', 'db2_eps', 'db2_n'])\n",
    "params.loc[0, :] = [0, None, None, None, None, 0.02, 5, 3, 10, 0.05, 5]\n",
    "params.loc[1, :] = [1, None, None, None, None, 0.02, 5, 3, 10, 0.05, 5]\n",
    "params.loc[2, :] = [2, None, None, None, None, 0.05, 5, 3, 5, 0.05, 5]\n",
    "params.loc[3, :] = [3, None, None, 7.1, None, 0.02, 3, 3, 10, 0.05, 5]\n",
    "params.loc[4, :] = [4, None, None, None, None, 0.02, 5, 3, 20, 0.1, 20]\n",
    "params.loc[5, :] = [5, None, None, None, None, 0.02, 5, 3, 20, 0.05, 10]\n",
    "params.loc[6, :] = [6, None, None, None, None, 0.02, 5, 3, 20, 0.05, 10]\n",
    "params.loc[7, :] = [7, None, None, None, 8, 0.02, 5, 3, 20, 0.05, 15]\n",
    "params.loc[8, :] = [8, None, None, None, None, 0.03, 5, 3, 20, 0.05, 7]\n",
    "params.loc[9, :] = [9, 47, None, None, None, 0.03, 5, 3, 20, 0.05, 5]\n",
    "params.loc[10, :] = [10, None, None, None, None, 0.015, 5, 3, 8, 0.05, 5]\n",
    "params.loc[11, :] = [11, None, None, None, None, 0.05, 5, 3, 10, 0.1, 5]\n",
    "params.loc[12, :] = [12, None, None, None, None, 0.02, 5, 3, 10, 0.08, 10]\n",
    "params.loc[13, :] = [13, None, None, None, None, 0.1, 5, 3, 10, 0.2, 10]\n",
    "params.loc[14, :] = [14, None, None, None, None, 0.1, 5, 3, 20, 0.3, 8]\n",
    "params.loc[15, :] = [15, None, None, None, None, 0.02, 5, 3, 10, 0.2, 5]\n",
    "params.loc[16, :] = [16, None, None, None, None, 0.01, 5, 5, 3, 0.3, 4]\n",
    "params.loc[17, :] = [17, None, None, None, None, 0.02, 5, 3, 20, 0.05, 5]\n",
    "params.loc[18, :] = [18, None, None, None, None, 0.02, 5, 3, 20, 0.3, 6]\n",
    "params.loc[19, :] = [19, None, None, None, None, 0.03, 5, 2, 10, 0.05, 5]\n",
    "params.loc[20, :] = [20, None, None, None, None, 0.04, 5, 4, 7, 0.3, 6]\n",
    "params.loc[21, :] = [21, None, None, None, None, 0.04, 3, 3, 5, 0.05, 5]\n",
    "params.loc[22, :] = [22, None, None, None, 9, 0.02, 5, 3, 1, 0.05, 5]\n",
    "params.loc[23, :] = [23, None, None, None, None, 0.02, 5, 2, 3, 0.05, 5]\n",
    "params.loc[24, :] = [24, None, None, None, 9, 0.03, 5, 3, 10, 0.05, 5]\n",
    "params.loc[25, :] = [25, None, None, None, None, 0.02, 5, 3, 1, 0.05, 5]\n",
    "params.loc[26, :] = [26, None, None, None, None, 0.02, 5, 3, 3, 0.05, 10]\n",
    "params.loc[27, :] = [27, None, None, None, 8.5, 0.02, 5, 3, 5, 0.05, 10]\n",
    "params.loc[28, :] = [28, None, None, None, None, 0.04, 5, 3, 5, 0.05, 5]\n",
    "params.loc[29, :] = [29, None, None, None, None, 0.05, 5, 3, 3, 0.05, 5]\n",
    "params.loc[30, :] = [30, None, None, None, None, 0.02, 5, 3, 10, 0.05, 5]\n",
    "params.loc[31, :] = [31, None, None, None, None, 0.02, 5, 3, 5, 0.05, 7]\n",
    "\n",
    "params"
   ]
  },
  {
   "cell_type": "code",
   "execution_count": 43,
   "metadata": {},
   "outputs": [
    {
     "name": "stdout",
     "output_type": "stream",
     "text": [
      "(31596, 12)\n"
     ]
    }
   ],
   "source": [
    "## Prepare base_points for step 4\n",
    "\n",
    "base_points = pd.DataFrame()\n",
    "\n",
    "for i in range(32):\n",
    "    # do not include these tracks to achieve the best score\n",
    "    if i in [0, 1, 21, 28, 31]:\n",
    "        continue\n",
    "    \n",
    "    da = filter_track(*params.iloc[i].values)\n",
    "    \n",
    "    if base_points.shape[0] == 0:\n",
    "        base_points = da.copy()\n",
    "    else:\n",
    "        base_points = pd.concat([base_points, da])\n",
    "        \n",
    "print(base_points.shape)"
   ]
  },
  {
   "cell_type": "code",
   "execution_count": 44,
   "metadata": {},
   "outputs": [],
   "source": [
    "base_points.to_csv('base_points.csv')"
   ]
  },
  {
   "cell_type": "markdown",
   "metadata": {},
   "source": [
    "# 4. Auto-selection of filtered locations from step 3 and extrapolation to the nearest points\n",
    "\n",
    "Even after filtering, the selected \"base points\" have accuracy about 100m.\n",
    "\n",
    "#### Description of the algorithm\n",
    "\n",
    "Let's consider some neighbour points in some time neighborhood $(t_{0} - \\Delta{t}, t_{0} + \\Delta{t})$.\n",
    "Let's assume that an aircraft track in this time neighborhood is a curve with constant curvature. **So if latitude\n",
    "is a function of time, then it's a second degree polynome of time.** (Second derivative of latitude by time is constant). The same is valid for longitude.\n",
    "\n",
    "Now, I can fit a second degree polynome of time to all base points' latitude and longitude from the neighborhood. In order to eliminate outliers I'll fit a Huber Regression instead of just Linear Regression applied to Polynomial features of time (see the code below).\n",
    "\n",
    "Finally, I can estimate distances between initial locations and predicted ones. If a median value of distance error is below some predefined threshold, then the algorithm predicts locations to all points from this neighborhood and I assume that these points will have distance error below the threshold.\n",
    "\n",
    "#### Time\n",
    "\n",
    "Each record has several different time measurements from stations and the question is which one to select to predict a location. Stations are synchronized and clock shift between two stations is always less than 0.001s for all normal measurements (not outliers). Considering that aircraft speed is about 200m/s and desired location accuracy 1m, I deduce the maximum allowed time error to be 0.005s. So, I will consider only those points which maximum difference between time measurements is below 0.005s. Time value is calculated as an average across all time measurements for a point.  \n",
    " \n",
    "\n",
    "#### Selection of algorithm parameters\n",
    "\n",
    "The number of extrapolated points depends on the algorithm parameters. I found the following parameters to be reasonable which showed 33.6m score:\n",
    " - $\\Delta{t}$ = 30s;\n",
    " - min number of points in the neighborhood = 10;\n",
    " - distance threshold = 35m"
   ]
  },
  {
   "cell_type": "code",
   "execution_count": 45,
   "metadata": {},
   "outputs": [],
   "source": [
    "# Load base points from step 3"
   ]
  },
  {
   "cell_type": "code",
   "execution_count": 46,
   "metadata": {},
   "outputs": [
    {
     "data": {
      "text/plain": [
       "(31596, 13)"
      ]
     },
     "execution_count": 46,
     "metadata": {},
     "output_type": "execute_result"
    }
   ],
   "source": [
    "base_points = pd.read_csv('base_points.csv')\n",
    "base_points.shape"
   ]
  },
  {
   "cell_type": "code",
   "execution_count": 47,
   "metadata": {},
   "outputs": [],
   "source": [
    "from sklearn.preprocessing import PolynomialFeatures\n",
    "from sklearn.linear_model import HuberRegressor\n",
    "\n",
    "# Function to check points in some neighborhood and predict all locations if conditions satisfied\n",
    "#\n",
    "# Input:\n",
    "#   - full: dataframe containing all points for a given aircraft track\n",
    "#   - part: dataframe containing only base points for a given aircraft track\n",
    "#   - t0: center of time neighborhood\n",
    "#   - Teps: radius of time neighborhood\n",
    "#   - Nmin: min number of points in the neighborhood required\n",
    "#   - ds_max: distance threshold in meters\n",
    "#\n",
    "# Output:\n",
    "#   - record id of the point with maximum time value in the neighborhood\n",
    "\n",
    "def check_point(full, part, t0, Teps=30, Nmin=10, ds_max=50):\n",
    "    # select points from the neighbourhood\n",
    "    ii = np.where(abs(part.time.values - t0) < Teps)[0]\n",
    "    \n",
    "    if len(ii) < Nmin:\n",
    "        return -1\n",
    "    \n",
    "    # Prepare polynomial features for time\n",
    "    poly = PolynomialFeatures(2)\n",
    "    t0 = np.min(part.time.values[ii])\n",
    "    t = (part.time.values[ii] - t0).reshape(-1, 1)\n",
    "    poly.fit(t)\n",
    "    poly_t = poly.transform(t)\n",
    "\n",
    "    # two huber regressions for latitude and longitude\n",
    "    hr_lat = HuberRegressor().fit(poly_t, part.latitude.values[ii])\n",
    "    hr_lon = HuberRegressor().fit(poly_t, part.longitude.values[ii])\n",
    "\n",
    "    # Calculate distance errors for fitted points\n",
    "    ds = np.array([dist3d(P3(lat, lon, hgt), P3(lat_pred, lon_pred, hgt)) for lat, lon, hgt, lat_pred, lon_pred in zip(part.latitude.values[ii],\n",
    "                                                                                                     part.longitude.values[ii],\n",
    "                                                                                                     part.geoAltitude.values[ii],\n",
    "                                                                                                     hr_lat.predict(poly_t),\n",
    "                                                                                                     hr_lon.predict(poly_t))])\n",
    "    \n",
    "    if np.median(ds) > ds_max:\n",
    "        return -1\n",
    "    \n",
    "    # Predict locations in full\n",
    "    id_min, id_max = np.min(part.id.values[ii]), np.max(part.id.values[ii])\n",
    "    t_full = (full.loc[(full.id >= id_min) & (full.id <= id_max)].time.values - t0).reshape(-1, 1)\n",
    "    poly_t_full = poly.transform(t_full)\n",
    "\n",
    "    full.loc[(full.id >= id_min) & (full.id <= id_max), 'longitude'] = hr_lon.predict(poly_t_full)\n",
    "    full.loc[(full.id >= id_min) & (full.id <= id_max), 'latitude'] = hr_lat.predict(poly_t_full)\n",
    "    \n",
    "    return id_max\n"
   ]
  },
  {
   "cell_type": "markdown",
   "metadata": {},
   "source": [
    "### Run the algorithm"
   ]
  },
  {
   "cell_type": "code",
   "execution_count": 48,
   "metadata": {},
   "outputs": [
    {
     "name": "stderr",
     "output_type": "stream",
     "text": [
      "100%|██████████| 27/27 [04:56<00:00, 10.97s/it]\n"
     ]
    }
   ],
   "source": [
    "final = pd.DataFrame()\n",
    "\n",
    "for aircraft in tqdm(base_points.aircraft.unique()):\n",
    "    # prepare full dataframe\n",
    "    full = df[df.aircraft==aircraft]\n",
    "    # assign time values as average across all time measurements\n",
    "    full['time'] = [np.mean([w[1]/1e9 for w in eval(y)]) for y in full['measurements']]\n",
    "    # calculate max time difference to check outliers\n",
    "    full['time_err'] = [np.max(np.abs(np.diff([w[1]/1e9 for w in eval(y)]))) for y in full['measurements']]\n",
    "    # remove out;iers\n",
    "    full = full[full.time_err<0.005]\n",
    "    \n",
    "    # prepare part dataframe\n",
    "    part = base_points[base_points.aircraft==aircraft]\n",
    "    # assign time values \n",
    "    part['time'] = [np.mean([w[1]/1e9 for w in eval(y)]) for y in part['measurements']]\n",
    "    \n",
    "    i = 0\n",
    "    while i < part.shape[0]:\n",
    "        try:  # sometimes HuberRegression doesn't converge\n",
    "            id_max = check_point(full, part, part.time.values[i], Teps=30, Nmin=10, ds_max=35)\n",
    "        except:\n",
    "            # return unsuccess\n",
    "            id_max = -1\n",
    "\n",
    "        if id_max == -1:\n",
    "            # unsuccess -> move to the next base point in track\n",
    "            i += 1\n",
    "        else:\n",
    "            # success -> move to the next base point outside the neighborhood\n",
    "            i = np.where(part.id.values == id_max)[0][0] + 1\n",
    "            \n",
    "    # save results\n",
    "    if final.shape[0] == 0:\n",
    "        final = full[~np.isnan(full.longitude)]\n",
    "    else:\n",
    "        final = pd.concat([final, full[~np.isnan(full.longitude)]])"
   ]
  },
  {
   "cell_type": "code",
   "execution_count": 49,
   "metadata": {},
   "outputs": [
    {
     "data": {
      "text/plain": [
       "(54985, 13)"
      ]
     },
     "execution_count": 49,
     "metadata": {},
     "output_type": "execute_result"
    }
   ],
   "source": [
    "# just fill in geoAltitude as it's not checked\n",
    "final['geoAltitude'] = final['baroAltitude']\n",
    "final.shape"
   ]
  },
  {
   "cell_type": "code",
   "execution_count": 50,
   "metadata": {},
   "outputs": [],
   "source": [
    "## prepare submission"
   ]
  },
  {
   "cell_type": "code",
   "execution_count": 51,
   "metadata": {},
   "outputs": [],
   "source": [
    "(pd.read_csv('test/round1_sample_empty.csv')\n",
    " .loc[:, ['id']]\n",
    " .merge(final.drop_duplicates('id'), on='id', how='left')\n",
    " .loc[:, ['id', 'latitude', 'longitude', 'geoAltitude']]\n",
    ").to_csv('best_submission.csv', index=False)"
   ]
  },
  {
   "cell_type": "code",
   "execution_count": null,
   "metadata": {},
   "outputs": [],
   "source": []
  }
 ],
 "metadata": {
  "kernelspec": {
   "display_name": "Python 3",
   "language": "python",
   "name": "python3"
  },
  "language_info": {
   "codemirror_mode": {
    "name": "ipython",
    "version": 3
   },
   "file_extension": ".py",
   "mimetype": "text/x-python",
   "name": "python",
   "nbconvert_exporter": "python",
   "pygments_lexer": "ipython3",
   "version": "3.7.4"
  }
 },
 "nbformat": 4,
 "nbformat_minor": 2
}
